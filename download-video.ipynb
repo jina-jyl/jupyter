{
 "cells": [
  {
   "cell_type": "markdown",
   "metadata": {},
   "source": [
    "# Video Download"
   ]
  },
  {
   "cell_type": "code",
   "execution_count": 44,
   "metadata": {},
   "outputs": [
    {
     "data": {
      "application/vnd.jupyter.widget-view+json": {
       "model_id": "4c45904334f2415f9d0e1f783a654001",
       "version_major": 2,
       "version_minor": 0
      },
      "text/plain": [
       "interactive(children=(Text(value='https://youtu.be/_EyJISK0X7k', description='url'), Button(description='Run I…"
      ]
     },
     "metadata": {},
     "output_type": "display_data"
    }
   ],
   "source": [
    "from IPython.display import display\n",
    "from ipywidgets import interact, interact_manual\n",
    "import ipywidgets as widgets\n",
    "\n",
    "def download(url):\n",
    "    print('Start to download %s' % url)\n",
    "    output = !youtube-dl -o \"id-%(id)s.%(ext)s\" -f bestvideo+bestaudio --get-filename \"{url}\"\n",
    "    !youtube-dl -o \"id-%(id)s.%(ext)s\" -f bestvideo+bestaudio \"{url}\"\n",
    "    dl_output = output[0]\n",
    "    %env DL_OUTPUT $dl_output\n",
    "    \n",
    "im = interact_manual(download, url=\"https://youtu.be/_EyJISK0X7k\")\n",
    "\n",
    "im.widget.children[0].description = 'Video URL'\n",
    "im.widget.children[1].description = 'Download'"
   ]
  }
 ],
 "metadata": {
  "kernelspec": {
   "display_name": "Python 3",
   "language": "python",
   "name": "python3"
  },
  "language_info": {
   "codemirror_mode": {
    "name": "ipython",
    "version": 3
   },
   "file_extension": ".py",
   "mimetype": "text/x-python",
   "name": "python",
   "nbconvert_exporter": "python",
   "pygments_lexer": "ipython3",
   "version": "3.7.7"
  }
 },
 "nbformat": 4,
 "nbformat_minor": 4
}
